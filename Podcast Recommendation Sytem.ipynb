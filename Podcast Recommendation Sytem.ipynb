{
 "cells": [
  {
   "cell_type": "markdown",
   "metadata": {},
   "source": [
    "# Building a podcast Recommendation Sytem"
   ]
  },
  {
   "cell_type": "markdown",
   "metadata": {},
   "source": [
    "This project is based on the kaggle tutorial https://www.kaggle.com/switkowski/building-a-podcast-recommendation-engine, which is also based in the Chris Clark's blog http://blog.untrod.com/2017/02/recommendation-engine-for-trending-products-in-python.md.html"
   ]
  },
  {
   "cell_type": "markdown",
   "metadata": {},
   "source": [
    "The dataset used in this project is provided by ListenNotes https://www.kaggle.com/listennotes/all-podcast-episodes-published-in-december-2017. It contains both podcast and episode metadata."
   ]
  },
  {
   "cell_type": "markdown",
   "metadata": {},
   "source": [
    "## I. Imports first\n",
    "We will import usual libraries as numpy, pandas. Also we will need some modules from sklearn: TfidfVectorizer and linear_kernel."
   ]
  },
  {
   "cell_type": "code",
   "execution_count": 1,
   "metadata": {},
   "outputs": [],
   "source": [
    "import numpy as np\n",
    "import pandas as pd \n",
    "import os\n",
    "import re\n",
    "from sklearn.feature_extraction.text import TfidfVectorizer\n",
    "from sklearn.metrics.pairwise import linear_kernel\n",
    "\n",
    "from IPython.core.interactiveshell import InteractiveShell\n",
    "InteractiveShell.ast_node_interactivity = \"all\""
   ]
  },
  {
   "cell_type": "code",
   "execution_count": 3,
   "metadata": {},
   "outputs": [
    {
     "data": {
      "text/html": [
       "<div>\n",
       "<style scoped>\n",
       "    .dataframe tbody tr th:only-of-type {\n",
       "        vertical-align: middle;\n",
       "    }\n",
       "\n",
       "    .dataframe tbody tr th {\n",
       "        vertical-align: top;\n",
       "    }\n",
       "\n",
       "    .dataframe thead th {\n",
       "        text-align: right;\n",
       "    }\n",
       "</style>\n",
       "<table border=\"1\" class=\"dataframe\">\n",
       "  <thead>\n",
       "    <tr style=\"text-align: right;\">\n",
       "      <th></th>\n",
       "      <th>uuid</th>\n",
       "      <th>title</th>\n",
       "      <th>image</th>\n",
       "      <th>description</th>\n",
       "      <th>language</th>\n",
       "      <th>categories</th>\n",
       "      <th>website</th>\n",
       "      <th>author</th>\n",
       "      <th>itunes_id</th>\n",
       "    </tr>\n",
       "  </thead>\n",
       "  <tbody>\n",
       "    <tr>\n",
       "      <th>0</th>\n",
       "      <td>8d62d3880db2425b890b986e58aca393</td>\n",
       "      <td>Ecommerce Conversations, by Practical Ecommerce</td>\n",
       "      <td>http://is4.mzstatic.com/image/thumb/Music6/v4/...</td>\n",
       "      <td>Listen in as the Practical Ecommerce editorial...</td>\n",
       "      <td>English</td>\n",
       "      <td>Technology</td>\n",
       "      <td>http://www.practicalecommerce.com</td>\n",
       "      <td>Practical Ecommerce</td>\n",
       "      <td>874457373</td>\n",
       "    </tr>\n",
       "    <tr>\n",
       "      <th>1</th>\n",
       "      <td>cbbefd691915468c90f87ab2f00473f9</td>\n",
       "      <td>Eat Sleep Code Podcast</td>\n",
       "      <td>http://is4.mzstatic.com/image/thumb/Music71/v4...</td>\n",
       "      <td>On the show we’ll be talking to passionate peo...</td>\n",
       "      <td>English</td>\n",
       "      <td>Tech News | Technology</td>\n",
       "      <td>http://developer.telerik.com/</td>\n",
       "      <td>Telerik</td>\n",
       "      <td>1015556393</td>\n",
       "    </tr>\n",
       "    <tr>\n",
       "      <th>2</th>\n",
       "      <td>73626ad1edb74dbb8112cd159bda86cf</td>\n",
       "      <td>SoundtrackAlley</td>\n",
       "      <td>http://is5.mzstatic.com/image/thumb/Music71/v4...</td>\n",
       "      <td>A podcast about soundtracks and movies from my...</td>\n",
       "      <td>English</td>\n",
       "      <td>Podcasting | Technology</td>\n",
       "      <td>https://soundtrackalley.podbean.com</td>\n",
       "      <td>Randy Andrews</td>\n",
       "      <td>1158188937</td>\n",
       "    </tr>\n",
       "    <tr>\n",
       "      <th>3</th>\n",
       "      <td>0f50631ebad24cedb2fee80950f37a1a</td>\n",
       "      <td>The Tech M&amp;A Podcast</td>\n",
       "      <td>http://is1.mzstatic.com/image/thumb/Music71/v4...</td>\n",
       "      <td>The Tech M&amp;A Podcast pulls from the best of th...</td>\n",
       "      <td>English</td>\n",
       "      <td>Business News | Technology | Tech News | Business</td>\n",
       "      <td>http://www.corumgroup.com</td>\n",
       "      <td>Timothy Goddard</td>\n",
       "      <td>538160025</td>\n",
       "    </tr>\n",
       "    <tr>\n",
       "      <th>4</th>\n",
       "      <td>69580e7b419045839ca07af06cf0d653</td>\n",
       "      <td>The Tech Informist - For fans of Apple, Google...</td>\n",
       "      <td>http://is4.mzstatic.com/image/thumb/Music62/v4...</td>\n",
       "      <td>The tech news show with two guys shooting the ...</td>\n",
       "      <td>English</td>\n",
       "      <td>Gadgets | Tech News | Technology</td>\n",
       "      <td>http://techinformist.com</td>\n",
       "      <td>The Tech Informist</td>\n",
       "      <td>916080498</td>\n",
       "    </tr>\n",
       "  </tbody>\n",
       "</table>\n",
       "</div>"
      ],
      "text/plain": [
       "                               uuid  \\\n",
       "0  8d62d3880db2425b890b986e58aca393   \n",
       "1  cbbefd691915468c90f87ab2f00473f9   \n",
       "2  73626ad1edb74dbb8112cd159bda86cf   \n",
       "3  0f50631ebad24cedb2fee80950f37a1a   \n",
       "4  69580e7b419045839ca07af06cf0d653   \n",
       "\n",
       "                                               title  \\\n",
       "0    Ecommerce Conversations, by Practical Ecommerce   \n",
       "1                             Eat Sleep Code Podcast   \n",
       "2                                    SoundtrackAlley   \n",
       "3                               The Tech M&A Podcast   \n",
       "4  The Tech Informist - For fans of Apple, Google...   \n",
       "\n",
       "                                               image  \\\n",
       "0  http://is4.mzstatic.com/image/thumb/Music6/v4/...   \n",
       "1  http://is4.mzstatic.com/image/thumb/Music71/v4...   \n",
       "2  http://is5.mzstatic.com/image/thumb/Music71/v4...   \n",
       "3  http://is1.mzstatic.com/image/thumb/Music71/v4...   \n",
       "4  http://is4.mzstatic.com/image/thumb/Music62/v4...   \n",
       "\n",
       "                                         description language  \\\n",
       "0  Listen in as the Practical Ecommerce editorial...  English   \n",
       "1  On the show we’ll be talking to passionate peo...  English   \n",
       "2  A podcast about soundtracks and movies from my...  English   \n",
       "3  The Tech M&A Podcast pulls from the best of th...  English   \n",
       "4  The tech news show with two guys shooting the ...  English   \n",
       "\n",
       "                                          categories  \\\n",
       "0                                         Technology   \n",
       "1                             Tech News | Technology   \n",
       "2                            Podcasting | Technology   \n",
       "3  Business News | Technology | Tech News | Business   \n",
       "4                   Gadgets | Tech News | Technology   \n",
       "\n",
       "                               website               author   itunes_id  \n",
       "0    http://www.practicalecommerce.com  Practical Ecommerce   874457373  \n",
       "1        http://developer.telerik.com/              Telerik  1015556393  \n",
       "2  https://soundtrackalley.podbean.com        Randy Andrews  1158188937  \n",
       "3            http://www.corumgroup.com      Timothy Goddard   538160025  \n",
       "4             http://techinformist.com   The Tech Informist   916080498  "
      ]
     },
     "execution_count": 3,
     "metadata": {},
     "output_type": "execute_result"
    },
    {
     "name": "stdout",
     "output_type": "stream",
     "text": [
      "<class 'pandas.core.frame.DataFrame'>\n",
      "RangeIndex: 121175 entries, 0 to 121174\n",
      "Data columns (total 9 columns):\n",
      "uuid           121175 non-null object\n",
      "title          121173 non-null object\n",
      "image          121175 non-null object\n",
      "description    119832 non-null object\n",
      "language       121175 non-null object\n",
      "categories     121175 non-null object\n",
      "website        120005 non-null object\n",
      "author         118678 non-null object\n",
      "itunes_id      121175 non-null int64\n",
      "dtypes: int64(1), object(8)\n",
      "memory usage: 8.3+ MB\n"
     ]
    }
   ],
   "source": [
    "podcasts = pd.read_csv('Dataset/podcasts.csv')\n",
    "podcasts.head()\n",
    "podcasts.info()"
   ]
  },
  {
   "cell_type": "markdown",
   "metadata": {},
   "source": [
    "## II. Cleaning the dataset"
   ]
  },
  {
   "cell_type": "markdown",
   "metadata": {},
   "source": [
    "We are only focusing on the podcasts titles rather than the episodes. Our dataset contains 121175 entries. In order to do some tests quickly, we should reduce this dataset to 15000 at most."
   ]
  },
  {
   "cell_type": "markdown",
   "metadata": {},
   "source": [
    "As a first filter, we can choose one podcast language."
   ]
  },
  {
   "cell_type": "code",
   "execution_count": 6,
   "metadata": {},
   "outputs": [
    {
     "data": {
      "text/html": [
       "<div>\n",
       "<style scoped>\n",
       "    .dataframe tbody tr th:only-of-type {\n",
       "        vertical-align: middle;\n",
       "    }\n",
       "\n",
       "    .dataframe tbody tr th {\n",
       "        vertical-align: top;\n",
       "    }\n",
       "\n",
       "    .dataframe thead th {\n",
       "        text-align: right;\n",
       "    }\n",
       "</style>\n",
       "<table border=\"1\" class=\"dataframe\">\n",
       "  <thead>\n",
       "    <tr style=\"text-align: right;\">\n",
       "      <th></th>\n",
       "      <th>language</th>\n",
       "    </tr>\n",
       "  </thead>\n",
       "  <tbody>\n",
       "    <tr>\n",
       "      <th>English</th>\n",
       "      <td>99316</td>\n",
       "    </tr>\n",
       "    <tr>\n",
       "      <th>German</th>\n",
       "      <td>4316</td>\n",
       "    </tr>\n",
       "    <tr>\n",
       "      <th>French</th>\n",
       "      <td>3874</td>\n",
       "    </tr>\n",
       "    <tr>\n",
       "      <th>Spanish</th>\n",
       "      <td>3637</td>\n",
       "    </tr>\n",
       "    <tr>\n",
       "      <th>Portuguese</th>\n",
       "      <td>1827</td>\n",
       "    </tr>\n",
       "    <tr>\n",
       "      <th>Swedish</th>\n",
       "      <td>1698</td>\n",
       "    </tr>\n",
       "    <tr>\n",
       "      <th>Chinese</th>\n",
       "      <td>1329</td>\n",
       "    </tr>\n",
       "    <tr>\n",
       "      <th>Japanese</th>\n",
       "      <td>1097</td>\n",
       "    </tr>\n",
       "    <tr>\n",
       "      <th>Italian</th>\n",
       "      <td>818</td>\n",
       "    </tr>\n",
       "    <tr>\n",
       "      <th>Russian</th>\n",
       "      <td>602</td>\n",
       "    </tr>\n",
       "  </tbody>\n",
       "</table>\n",
       "</div>"
      ],
      "text/plain": [
       "            language\n",
       "English        99316\n",
       "German          4316\n",
       "French          3874\n",
       "Spanish         3637\n",
       "Portuguese      1827\n",
       "Swedish         1698\n",
       "Chinese         1329\n",
       "Japanese        1097\n",
       "Italian          818\n",
       "Russian          602"
      ]
     },
     "execution_count": 6,
     "metadata": {},
     "output_type": "execute_result"
    }
   ],
   "source": [
    "(podcasts\n",
    " .language\n",
    " .value_counts()\n",
    " .to_frame()\n",
    " .head(10))"
   ]
  },
  {
   "cell_type": "markdown",
   "metadata": {},
   "source": [
    "We observe that the english podcasts are the most popular in this dataset, then we can work with them."
   ]
  },
  {
   "cell_type": "code",
   "execution_count": 8,
   "metadata": {},
   "outputs": [],
   "source": [
    "podcasts = podcasts[podcasts.language == 'English']"
   ]
  },
  {
   "cell_type": "markdown",
   "metadata": {},
   "source": [
    "Let's take a look into the missing values"
   ]
  },
  {
   "cell_type": "code",
   "execution_count": 10,
   "metadata": {},
   "outputs": [
    {
     "data": {
      "text/plain": [
       "uuid              0\n",
       "title             1\n",
       "image             0\n",
       "description    1143\n",
       "language          0\n",
       "categories        0\n",
       "website        1093\n",
       "author         2155\n",
       "itunes_id         0\n",
       "dtype: int64"
      ]
     },
     "execution_count": 10,
     "metadata": {},
     "output_type": "execute_result"
    }
   ],
   "source": [
    "missing_values_count = podcasts.isnull().sum()\n",
    "missing_values_count"
   ]
  },
  {
   "cell_type": "markdown",
   "metadata": {},
   "source": [
    "There exists one title missing and some rows without a description. These aren't going to be very useful, so we can drop those records."
   ]
  },
  {
   "cell_type": "code",
   "execution_count": 13,
   "metadata": {},
   "outputs": [],
   "source": [
    "podcasts = podcasts.dropna(subset=['description','title'])"
   ]
  },
  {
   "cell_type": "code",
   "execution_count": 16,
   "metadata": {},
   "outputs": [
    {
     "data": {
      "text/plain": [
       "uuid              0\n",
       "title             0\n",
       "image             0\n",
       "description       0\n",
       "language          0\n",
       "categories        0\n",
       "website        1069\n",
       "author         2051\n",
       "itunes_id         0\n",
       "dtype: int64"
      ]
     },
     "execution_count": 16,
     "metadata": {},
     "output_type": "execute_result"
    },
    {
     "data": {
      "text/plain": [
       "(98172, 9)"
      ]
     },
     "execution_count": 16,
     "metadata": {},
     "output_type": "execute_result"
    }
   ],
   "source": [
    "missing_values_count = podcasts.isnull().sum()\n",
    "missing_values_count\n",
    "podcasts.shape"
   ]
  },
  {
   "cell_type": "markdown",
   "metadata": {},
   "source": [
    "Let's take a look into duplicated entries"
   ]
  },
  {
   "cell_type": "code",
   "execution_count": 17,
   "metadata": {},
   "outputs": [],
   "source": [
    "podcasts = podcasts.drop_duplicates('itunes_id')"
   ]
  },
  {
   "cell_type": "code",
   "execution_count": 18,
   "metadata": {},
   "outputs": [
    {
     "data": {
      "text/plain": [
       "(98172, 9)"
      ]
     },
     "execution_count": 18,
     "metadata": {},
     "output_type": "execute_result"
    }
   ],
   "source": [
    "podcasts.shape"
   ]
  },
  {
   "cell_type": "markdown",
   "metadata": {},
   "source": [
    "Since we're building a recommender system based on podcast descriptions, we want to make sure that the descriptions have enough sontent in them to serve as useful inputs. \n",
    "\n",
    "From the tutorial, we see that is useful to find the length of each podcast description and describe it."
   ]
  },
  {
   "cell_type": "code",
   "execution_count": 19,
   "metadata": {},
   "outputs": [
    {
     "data": {
      "text/plain": [
       "count    98172.000000\n",
       "mean        39.168918\n",
       "std        107.099080\n",
       "min          0.000000\n",
       "25%         11.000000\n",
       "50%         26.000000\n",
       "75%         51.000000\n",
       "max      30157.000000\n",
       "Name: description_length, dtype: float64"
      ]
     },
     "execution_count": 19,
     "metadata": {},
     "output_type": "execute_result"
    }
   ],
   "source": [
    "podcasts['description_length'] = [len(x.description.split()) for _, x in podcasts.iterrows()]"
   ]
  },
  {
   "cell_type": "code",
   "execution_count": 22,
   "metadata": {
    "scrolled": true
   },
   "outputs": [
    {
     "data": {
      "text/html": [
       "<div>\n",
       "<style scoped>\n",
       "    .dataframe tbody tr th:only-of-type {\n",
       "        vertical-align: middle;\n",
       "    }\n",
       "\n",
       "    .dataframe tbody tr th {\n",
       "        vertical-align: top;\n",
       "    }\n",
       "\n",
       "    .dataframe thead th {\n",
       "        text-align: right;\n",
       "    }\n",
       "</style>\n",
       "<table border=\"1\" class=\"dataframe\">\n",
       "  <thead>\n",
       "    <tr style=\"text-align: right;\">\n",
       "      <th></th>\n",
       "      <th>uuid</th>\n",
       "      <th>title</th>\n",
       "      <th>image</th>\n",
       "      <th>description</th>\n",
       "      <th>language</th>\n",
       "      <th>categories</th>\n",
       "      <th>website</th>\n",
       "      <th>author</th>\n",
       "      <th>itunes_id</th>\n",
       "      <th>description_length</th>\n",
       "    </tr>\n",
       "  </thead>\n",
       "  <tbody>\n",
       "    <tr>\n",
       "      <th>0</th>\n",
       "      <td>8d62d3880db2425b890b986e58aca393</td>\n",
       "      <td>Ecommerce Conversations, by Practical Ecommerce</td>\n",
       "      <td>http://is4.mzstatic.com/image/thumb/Music6/v4/...</td>\n",
       "      <td>Listen in as the Practical Ecommerce editorial...</td>\n",
       "      <td>English</td>\n",
       "      <td>Technology</td>\n",
       "      <td>http://www.practicalecommerce.com</td>\n",
       "      <td>Practical Ecommerce</td>\n",
       "      <td>874457373</td>\n",
       "      <td>15</td>\n",
       "    </tr>\n",
       "    <tr>\n",
       "      <th>1</th>\n",
       "      <td>cbbefd691915468c90f87ab2f00473f9</td>\n",
       "      <td>Eat Sleep Code Podcast</td>\n",
       "      <td>http://is4.mzstatic.com/image/thumb/Music71/v4...</td>\n",
       "      <td>On the show we’ll be talking to passionate peo...</td>\n",
       "      <td>English</td>\n",
       "      <td>Tech News | Technology</td>\n",
       "      <td>http://developer.telerik.com/</td>\n",
       "      <td>Telerik</td>\n",
       "      <td>1015556393</td>\n",
       "      <td>59</td>\n",
       "    </tr>\n",
       "    <tr>\n",
       "      <th>2</th>\n",
       "      <td>73626ad1edb74dbb8112cd159bda86cf</td>\n",
       "      <td>SoundtrackAlley</td>\n",
       "      <td>http://is5.mzstatic.com/image/thumb/Music71/v4...</td>\n",
       "      <td>A podcast about soundtracks and movies from my...</td>\n",
       "      <td>English</td>\n",
       "      <td>Podcasting | Technology</td>\n",
       "      <td>https://soundtrackalley.podbean.com</td>\n",
       "      <td>Randy Andrews</td>\n",
       "      <td>1158188937</td>\n",
       "      <td>11</td>\n",
       "    </tr>\n",
       "    <tr>\n",
       "      <th>3</th>\n",
       "      <td>0f50631ebad24cedb2fee80950f37a1a</td>\n",
       "      <td>The Tech M&amp;A Podcast</td>\n",
       "      <td>http://is1.mzstatic.com/image/thumb/Music71/v4...</td>\n",
       "      <td>The Tech M&amp;A Podcast pulls from the best of th...</td>\n",
       "      <td>English</td>\n",
       "      <td>Business News | Technology | Tech News | Business</td>\n",
       "      <td>http://www.corumgroup.com</td>\n",
       "      <td>Timothy Goddard</td>\n",
       "      <td>538160025</td>\n",
       "      <td>59</td>\n",
       "    </tr>\n",
       "    <tr>\n",
       "      <th>4</th>\n",
       "      <td>69580e7b419045839ca07af06cf0d653</td>\n",
       "      <td>The Tech Informist - For fans of Apple, Google...</td>\n",
       "      <td>http://is4.mzstatic.com/image/thumb/Music62/v4...</td>\n",
       "      <td>The tech news show with two guys shooting the ...</td>\n",
       "      <td>English</td>\n",
       "      <td>Gadgets | Tech News | Technology</td>\n",
       "      <td>http://techinformist.com</td>\n",
       "      <td>The Tech Informist</td>\n",
       "      <td>916080498</td>\n",
       "      <td>17</td>\n",
       "    </tr>\n",
       "  </tbody>\n",
       "</table>\n",
       "</div>"
      ],
      "text/plain": [
       "                               uuid  \\\n",
       "0  8d62d3880db2425b890b986e58aca393   \n",
       "1  cbbefd691915468c90f87ab2f00473f9   \n",
       "2  73626ad1edb74dbb8112cd159bda86cf   \n",
       "3  0f50631ebad24cedb2fee80950f37a1a   \n",
       "4  69580e7b419045839ca07af06cf0d653   \n",
       "\n",
       "                                               title  \\\n",
       "0    Ecommerce Conversations, by Practical Ecommerce   \n",
       "1                             Eat Sleep Code Podcast   \n",
       "2                                    SoundtrackAlley   \n",
       "3                               The Tech M&A Podcast   \n",
       "4  The Tech Informist - For fans of Apple, Google...   \n",
       "\n",
       "                                               image  \\\n",
       "0  http://is4.mzstatic.com/image/thumb/Music6/v4/...   \n",
       "1  http://is4.mzstatic.com/image/thumb/Music71/v4...   \n",
       "2  http://is5.mzstatic.com/image/thumb/Music71/v4...   \n",
       "3  http://is1.mzstatic.com/image/thumb/Music71/v4...   \n",
       "4  http://is4.mzstatic.com/image/thumb/Music62/v4...   \n",
       "\n",
       "                                         description language  \\\n",
       "0  Listen in as the Practical Ecommerce editorial...  English   \n",
       "1  On the show we’ll be talking to passionate peo...  English   \n",
       "2  A podcast about soundtracks and movies from my...  English   \n",
       "3  The Tech M&A Podcast pulls from the best of th...  English   \n",
       "4  The tech news show with two guys shooting the ...  English   \n",
       "\n",
       "                                          categories  \\\n",
       "0                                         Technology   \n",
       "1                             Tech News | Technology   \n",
       "2                            Podcasting | Technology   \n",
       "3  Business News | Technology | Tech News | Business   \n",
       "4                   Gadgets | Tech News | Technology   \n",
       "\n",
       "                               website               author   itunes_id  \\\n",
       "0    http://www.practicalecommerce.com  Practical Ecommerce   874457373   \n",
       "1        http://developer.telerik.com/              Telerik  1015556393   \n",
       "2  https://soundtrackalley.podbean.com        Randy Andrews  1158188937   \n",
       "3            http://www.corumgroup.com      Timothy Goddard   538160025   \n",
       "4             http://techinformist.com   The Tech Informist   916080498   \n",
       "\n",
       "   description_length  \n",
       "0                  15  \n",
       "1                  59  \n",
       "2                  11  \n",
       "3                  59  \n",
       "4                  17  "
      ]
     },
     "execution_count": 22,
     "metadata": {},
     "output_type": "execute_result"
    },
    {
     "data": {
      "text/plain": [
       "count    98172.000000\n",
       "mean        39.168918\n",
       "std        107.099080\n",
       "min          0.000000\n",
       "25%         11.000000\n",
       "50%         26.000000\n",
       "75%         51.000000\n",
       "max      30157.000000\n",
       "Name: description_length, dtype: float64"
      ]
     },
     "execution_count": 22,
     "metadata": {},
     "output_type": "execute_result"
    }
   ],
   "source": [
    "podcasts.head()\n",
    "podcasts['description_length'].describe()"
   ]
  },
  {
   "cell_type": "markdown",
   "metadata": {},
   "source": [
    "We observe that at lease a quarter of our descriptions have less than 11 words. I'm certain these won't serve as good inputs when we build the recommender system. Just to be safe, we are only going to include descriptions that have at least 20 words in them."
   ]
  },
  {
   "cell_type": "code",
   "execution_count": 81,
   "metadata": {},
   "outputs": [],
   "source": [
    "podcasts = podcasts[podcasts.description_length >= 20]"
   ]
  },
  {
   "cell_type": "markdown",
   "metadata": {},
   "source": [
    "Like it was mentioned earlier, in order to do fast processing we will build the recommender system with 15,000 records from this data set.\n",
    "\n",
    "At the end of this, we want to  find podcasts similar to our personal favorites, so let's pull those into a separate dataframe, and load them back in after the sample is created."
   ]
  },
  {
   "cell_type": "markdown",
   "metadata": {},
   "source": [
    "We need to create a list of favorite podcasts, in order to test the recommendation system. I will add my personal favorite list. This list is very diverse, contains music, films and business podcasts. I wasn't sure of the titles, so I did a quick search in the database"
   ]
  },
  {
   "cell_type": "code",
   "execution_count": 92,
   "metadata": {},
   "outputs": [
    {
     "data": {
      "text/html": [
       "<div>\n",
       "<style scoped>\n",
       "    .dataframe tbody tr th:only-of-type {\n",
       "        vertical-align: middle;\n",
       "    }\n",
       "\n",
       "    .dataframe tbody tr th {\n",
       "        vertical-align: top;\n",
       "    }\n",
       "\n",
       "    .dataframe thead th {\n",
       "        text-align: right;\n",
       "    }\n",
       "</style>\n",
       "<table border=\"1\" class=\"dataframe\">\n",
       "  <thead>\n",
       "    <tr style=\"text-align: right;\">\n",
       "      <th></th>\n",
       "      <th>uuid</th>\n",
       "      <th>title</th>\n",
       "      <th>image</th>\n",
       "      <th>description</th>\n",
       "      <th>language</th>\n",
       "      <th>categories</th>\n",
       "      <th>website</th>\n",
       "      <th>author</th>\n",
       "      <th>itunes_id</th>\n",
       "      <th>description_length</th>\n",
       "    </tr>\n",
       "  </thead>\n",
       "  <tbody>\n",
       "    <tr>\n",
       "      <th>9306</th>\n",
       "      <td>28cb5a9ca7d44b3faa1de9c93e23d806</td>\n",
       "      <td>Blank Check with Griffin &amp; David</td>\n",
       "      <td>http://is4.mzstatic.com/image/thumb/Music128/v...</td>\n",
       "      <td>Not just another bad movie podcast, Blank Chec...</td>\n",
       "      <td>English</td>\n",
       "      <td>Society &amp; Culture | TV &amp; Film | Comedy</td>\n",
       "      <td>https://audioboom.com/channel/Blank-Check</td>\n",
       "      <td>Audioboom</td>\n",
       "      <td>981330533</td>\n",
       "      <td>55</td>\n",
       "    </tr>\n",
       "  </tbody>\n",
       "</table>\n",
       "</div>"
      ],
      "text/plain": [
       "                                  uuid                             title  \\\n",
       "9306  28cb5a9ca7d44b3faa1de9c93e23d806  Blank Check with Griffin & David   \n",
       "\n",
       "                                                  image  \\\n",
       "9306  http://is4.mzstatic.com/image/thumb/Music128/v...   \n",
       "\n",
       "                                            description language  \\\n",
       "9306  Not just another bad movie podcast, Blank Chec...  English   \n",
       "\n",
       "                                  categories  \\\n",
       "9306  Society & Culture | TV & Film | Comedy   \n",
       "\n",
       "                                        website     author  itunes_id  \\\n",
       "9306  https://audioboom.com/channel/Blank-Check  Audioboom  981330533   \n",
       "\n",
       "      description_length  \n",
       "9306                  55  "
      ]
     },
     "execution_count": 92,
     "metadata": {},
     "output_type": "execute_result"
    }
   ],
   "source": [
    "podcasts[podcasts.title.str.contains('Blank Check ')]"
   ]
  },
  {
   "cell_type": "code",
   "execution_count": 95,
   "metadata": {},
   "outputs": [
    {
     "data": {
      "text/html": [
       "<div>\n",
       "<style scoped>\n",
       "    .dataframe tbody tr th:only-of-type {\n",
       "        vertical-align: middle;\n",
       "    }\n",
       "\n",
       "    .dataframe tbody tr th {\n",
       "        vertical-align: top;\n",
       "    }\n",
       "\n",
       "    .dataframe thead th {\n",
       "        text-align: right;\n",
       "    }\n",
       "</style>\n",
       "<table border=\"1\" class=\"dataframe\">\n",
       "  <thead>\n",
       "    <tr style=\"text-align: right;\">\n",
       "      <th></th>\n",
       "      <th>uuid</th>\n",
       "      <th>title</th>\n",
       "      <th>image</th>\n",
       "      <th>description</th>\n",
       "      <th>language</th>\n",
       "      <th>categories</th>\n",
       "      <th>website</th>\n",
       "      <th>author</th>\n",
       "      <th>itunes_id</th>\n",
       "      <th>description_length</th>\n",
       "    </tr>\n",
       "  </thead>\n",
       "  <tbody>\n",
       "    <tr>\n",
       "      <th>5996</th>\n",
       "      <td>fe5998aec5d046e1b3fb913f9a585935</td>\n",
       "      <td>Rock N Roll Archaeology</td>\n",
       "      <td>http://is5.mzstatic.com/image/thumb/Music111/v...</td>\n",
       "      <td>Rock And Roll Archaeology is, first and foremo...</td>\n",
       "      <td>English</td>\n",
       "      <td>Performing Arts | Arts | Music | Society &amp; Cul...</td>\n",
       "      <td>http://www.rocknrollarchaeology.com</td>\n",
       "      <td>Diy and HoW Studios</td>\n",
       "      <td>1052989183</td>\n",
       "      <td>98</td>\n",
       "    </tr>\n",
       "    <tr>\n",
       "      <th>9306</th>\n",
       "      <td>28cb5a9ca7d44b3faa1de9c93e23d806</td>\n",
       "      <td>Blank Check with Griffin &amp; David</td>\n",
       "      <td>http://is4.mzstatic.com/image/thumb/Music128/v...</td>\n",
       "      <td>Not just another bad movie podcast, Blank Chec...</td>\n",
       "      <td>English</td>\n",
       "      <td>Society &amp; Culture | TV &amp; Film | Comedy</td>\n",
       "      <td>https://audioboom.com/channel/Blank-Check</td>\n",
       "      <td>Audioboom</td>\n",
       "      <td>981330533</td>\n",
       "      <td>55</td>\n",
       "    </tr>\n",
       "    <tr>\n",
       "      <th>79021</th>\n",
       "      <td>fe6864628066420c8103c94e91e72eb3</td>\n",
       "      <td>The GaryVee Audio Experience</td>\n",
       "      <td>http://is2.mzstatic.com/image/thumb/Music127/v...</td>\n",
       "      <td>Welcome to The Garyvee Audio Experience, hoste...</td>\n",
       "      <td>English</td>\n",
       "      <td>Business | Business News | Management &amp; Marketing</td>\n",
       "      <td>http://www.garyvaynerchuk.com</td>\n",
       "      <td>Alex De Simone</td>\n",
       "      <td>928159684</td>\n",
       "      <td>61</td>\n",
       "    </tr>\n",
       "  </tbody>\n",
       "</table>\n",
       "</div>"
      ],
      "text/plain": [
       "                                   uuid                             title  \\\n",
       "5996   fe5998aec5d046e1b3fb913f9a585935           Rock N Roll Archaeology   \n",
       "9306   28cb5a9ca7d44b3faa1de9c93e23d806  Blank Check with Griffin & David   \n",
       "79021  fe6864628066420c8103c94e91e72eb3      The GaryVee Audio Experience   \n",
       "\n",
       "                                                   image  \\\n",
       "5996   http://is5.mzstatic.com/image/thumb/Music111/v...   \n",
       "9306   http://is4.mzstatic.com/image/thumb/Music128/v...   \n",
       "79021  http://is2.mzstatic.com/image/thumb/Music127/v...   \n",
       "\n",
       "                                             description language  \\\n",
       "5996   Rock And Roll Archaeology is, first and foremo...  English   \n",
       "9306   Not just another bad movie podcast, Blank Chec...  English   \n",
       "79021  Welcome to The Garyvee Audio Experience, hoste...  English   \n",
       "\n",
       "                                              categories  \\\n",
       "5996   Performing Arts | Arts | Music | Society & Cul...   \n",
       "9306              Society & Culture | TV & Film | Comedy   \n",
       "79021  Business | Business News | Management & Marketing   \n",
       "\n",
       "                                         website               author  \\\n",
       "5996         http://www.rocknrollarchaeology.com  Diy and HoW Studios   \n",
       "9306   https://audioboom.com/channel/Blank-Check            Audioboom   \n",
       "79021              http://www.garyvaynerchuk.com       Alex De Simone   \n",
       "\n",
       "        itunes_id  description_length  \n",
       "5996   1052989183                  98  \n",
       "9306    981330533                  55  \n",
       "79021   928159684                  61  "
      ]
     },
     "execution_count": 95,
     "metadata": {},
     "output_type": "execute_result"
    }
   ],
   "source": [
    "favorite_podcasts = ['928159684', '1052989183', '981330533']\n",
    "favorites = podcasts[podcasts.itunes_id.isin(favorite_podcasts)]\n",
    "favorites\n",
    "#podcasts.title\n",
    "#podcasts[podcasts.itunes_id == 928159684].title.values\n",
    "#podcasts[podcasts.itunes_id == 1052989183].title.values\n",
    "#podcasts[podcasts.itunes_id == 981330533].title.values"
   ]
  },
  {
   "cell_type": "markdown",
   "metadata": {},
   "source": [
    "Let's create the sample"
   ]
  },
  {
   "cell_type": "code",
   "execution_count": 96,
   "metadata": {},
   "outputs": [],
   "source": [
    "podcasts = podcasts[~podcasts.isin(favorites)].sample(15000)\n",
    "data = pd.concat([podcasts, favorites], sort = True).reset_index(drop = True)"
   ]
  },
  {
   "cell_type": "code",
   "execution_count": 97,
   "metadata": {},
   "outputs": [
    {
     "data": {
      "text/plain": [
       "(15003, 10)"
      ]
     },
     "execution_count": 97,
     "metadata": {},
     "output_type": "execute_result"
    }
   ],
   "source": [
    "data.shape"
   ]
  },
  {
   "cell_type": "markdown",
   "metadata": {},
   "source": [
    "#### IT'S DONE! THE DATASET IS CLEAN"
   ]
  },
  {
   "cell_type": "markdown",
   "metadata": {},
   "source": [
    "## III. TF-IDF Algorithm"
   ]
  }
 ],
 "metadata": {
  "kernelspec": {
   "display_name": "Python 3",
   "language": "python",
   "name": "python3"
  },
  "language_info": {
   "codemirror_mode": {
    "name": "ipython",
    "version": 3
   },
   "file_extension": ".py",
   "mimetype": "text/x-python",
   "name": "python",
   "nbconvert_exporter": "python",
   "pygments_lexer": "ipython3",
   "version": "3.7.4"
  }
 },
 "nbformat": 4,
 "nbformat_minor": 2
}
